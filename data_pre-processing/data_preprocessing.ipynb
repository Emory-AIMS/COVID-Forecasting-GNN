{
 "cells": [
  {
   "cell_type": "code",
   "execution_count": 1,
   "id": "0fc86b23",
   "metadata": {
    "scrolled": true
   },
   "outputs": [],
   "source": [
    "import pandas as pd\n",
    "import numpy as np\n",
    "import os\n",
    "import collections\n",
    "import seaborn as sns\n",
    "import matplotlib.pyplot as plt\n",
    "\n",
    "import torch\n",
    "\n",
    "from sklearn.preprocessing import MinMaxScaler\n",
    "from scipy.spatial.distance import pdist, squareform"
   ]
  },
  {
   "cell_type": "code",
   "execution_count": 2,
   "id": "43962254",
   "metadata": {},
   "outputs": [],
   "source": [
    "# Get State case series\n",
    "def getStateData(file, state, begin_period, end_period, threshold=None, fips=None): \n",
    "    \"\"\"\n",
    "    Input:\n",
    "        file: filename (csv)\n",
    "        state: full name of a US State\n",
    "        bp: begin date\n",
    "        end_period: end date\n",
    "        threshhold: minimum total new cases\n",
    "    \n",
    "    Output:\n",
    "        Create {state}_{len(conuties)}_counties_{days}.txt.\n",
    "        Data and a list of county fips.\n",
    "    \"\"\"\n",
    "    df = pd.read_csv(file)\n",
    "    df = df.dropna(subset=['fips'])\n",
    "    df[\"fips\"] = df[\"fips\"].astype(int)\n",
    "    df = df[df[\"state\"]==state]\n",
    "    df[\"date\"] = pd.to_datetime(df[\"date\"])\n",
    "    df = df[(df[\"date\"] >= begin_period) & (df[\"date\"] <= end_period)]\n",
    "    \n",
    "    df_counties = df[[\"date\", \"fips\", \"cases\"]]\n",
    "    \n",
    "    if fips:\n",
    "        df_counties = df_counties[fips]\n",
    "        \n",
    "    df_counties = df_counties.pivot_table(index='date', columns=[\"fips\"], aggfunc=np.sum)\n",
    "    df_counties.columns = df_counties.columns.droplevel()\n",
    "    df_counties = df_counties.reset_index()\n",
    "\n",
    "    # Get new cases\n",
    "    df_counties_new_cases = df_counties.iloc[1:].reset_index() - df_counties.iloc[:-1].reset_index()\n",
    "    df_counties_new_cases = df_counties_new_cases.drop([\"index\", \"date\"], axis=1)\n",
    "\n",
    "    # Clean outliers\n",
    "    df_counties_new_cases = df_counties_new_cases.dropna(axis=1)\n",
    "    if threshold:\n",
    "        df_counties_new_cases = df_counties_new_cases.loc[:, (df_counties_new_cases.sum()>threshold).values]\n",
    "\n",
    "    # Data and relevant info\n",
    "    counties = list(df_counties_new_cases.columns)\n",
    "    data = df_counties_new_cases.values\n",
    "    days = df_counties_new_cases.shape[0]\n",
    "\n",
    "    # Save data as txt (csv)\n",
    "#     np.savetxt(f'{data_path}/{STATES[state]}_{len(counties)}_counties_{days}.txt', data, delimiter=\",\", fmt=\"%.1f\")\n",
    "    \n",
    "    return data, counties"
   ]
  },
  {
   "cell_type": "code",
   "execution_count": 168,
   "id": "8780f249",
   "metadata": {},
   "outputs": [
    {
     "name": "stdout",
     "output_type": "stream",
     "text": [
      "['Alabama', 'Alaska', 'American Samoa', 'Arizona', 'Arkansas', 'California', 'Colorado', 'Connecticut', 'Delaware', 'District of Columbia', 'Florida', 'Georgia', 'Guam', 'Hawaii', 'Idaho', 'Illinois', 'Indiana', 'Iowa', 'Kansas', 'Kentucky', 'Louisiana', 'Maine', 'Maryland', 'Massachusetts', 'Michigan', 'Minnesota', 'Mississippi', 'Missouri', 'Montana', 'Nebraska', 'Nevada', 'New Hampshire', 'New Jersey', 'New Mexico', 'New York', 'North Carolina', 'North Dakota', 'Northern Mariana Islands', 'Ohio', 'Oklahoma', 'Oregon', 'Pennsylvania', 'Puerto Rico', 'Rhode Island', 'South Carolina', 'South Dakota', 'Tennessee', 'Texas', 'Utah', 'Vermont', 'Virgin Islands', 'Virginia', 'Washington', 'West Virginia', 'Wisconsin', 'Wyoming']\n",
      "50\n"
     ]
    }
   ],
   "source": [
    "# Get 50 States of U.S\n",
    "df = pd.read_csv(\"us-counties.txt\")\n",
    "states = list(set(df[\"state\"]))\n",
    "states.sort()\n",
    "print(states)\n",
    "STATES = {'Alabama': 'AL', 'Alaska': 'AK', 'Arizona': 'AZ', 'Arkansas': 'AR', 'California': 'CA', \n",
    "          'Colorado': 'CO', 'Connecticut': 'CT', 'Delaware': 'DE', 'Florida': 'FL', 'Georgia': 'GA', \n",
    "          'Hawaii': 'HI', 'Idaho': 'ID', 'Illinois': 'IL', 'Indiana': 'IN', 'Iowa': 'IA', \n",
    "          'Kansas': 'KS', 'Kentucky': 'KY', 'Louisiana': 'LA', 'Maine': 'ME', 'Maryland': 'MD', \n",
    "          'Massachusetts': 'MA', 'Michigan': 'MI', 'Minnesota': 'MN', 'Mississippi': 'MS', \n",
    "          'Missouri': 'MO', 'Montana': 'MT', 'Nebraska': 'NE', 'Nevada': 'NV', 'New Hampshire': 'NH', \n",
    "          'New Jersey': 'NJ', 'New Mexico': 'NM', 'New York': 'NY', 'North Carolina': 'NC', \n",
    "          'North Dakota': 'ND', 'Ohio': 'OH', 'Oklahoma': 'OK', 'Oregon': 'OR', 'Pennsylvania': 'PA', \n",
    "          'Rhode Island': 'RI', 'South Carolina': 'SC', 'South Dakota': 'SD', 'Tennessee': 'TN', \n",
    "          'Texas': 'TX', 'Utah': 'UT', 'Vermont': 'VT', 'Virginia': 'VA', 'Washington': 'WA', \n",
    "          'West Virginia': 'WV', 'Wisconsin': 'WI', 'Wyoming': 'WY'}\n",
    "print(len(STATES))"
   ]
  },
  {
   "cell_type": "code",
   "execution_count": 169,
   "id": "abb4338e",
   "metadata": {},
   "outputs": [
    {
     "name": "stdout",
     "output_type": "stream",
     "text": [
      "Alabama: 21 counties ------ DONE\n",
      "Alaska: 3 counties ------ DONE\n",
      "Arizona: 10 counties ------ DONE\n",
      "Arkansas: 13 counties ------ DONE\n",
      "California: 36 counties ------ DONE\n",
      "Colorado: 11 counties ------ DONE\n",
      "Connecticut: 8 counties ------ DONE\n",
      "Delaware: 3 counties ------ DONE\n",
      "Florida: 41 counties ------ DONE\n",
      "Georgia: 37 counties ------ DONE\n",
      "Hawaii: 2 counties ------ DONE\n",
      "Idaho: 6 counties ------ DONE\n",
      "Illinois: 23 counties ------ DONE\n",
      "Indiana: 24 counties ------ DONE\n",
      "Iowa: 10 counties ------ DONE\n",
      "Kansas: 7 counties ------ DONE\n",
      "Kentucky: 13 counties ------ DONE\n",
      "Louisiana: 18 counties ------ DONE\n",
      "Maine: 3 counties ------ DONE\n",
      "Maryland: 12 counties ------ DONE\n",
      "Massachusetts: 10 counties ------ DONE\n",
      "Michigan: 23 counties ------ DONE\n",
      "Minnesota: 12 counties ------ DONE\n",
      "Mississippi: 12 counties ------ DONE\n",
      "Missouri: 16 counties ------ DONE\n",
      "Montana: 5 counties ------ DONE\n",
      "Nebraska: 3 counties ------ DONE\n",
      "Nevada: 2 counties ------ DONE\n",
      "New Hampshire: 4 counties ------ DONE\n",
      "New Jersey: 20 counties ------ DONE\n",
      "New Mexico: 9 counties ------ DONE\n",
      "New York: 20 counties ------ DONE\n",
      "North Carolina: 40 counties ------ DONE\n",
      "North Dakota: 4 counties ------ DONE\n",
      "Ohio: 34 counties ------ DONE\n",
      "Oklahoma: 11 counties ------ DONE\n",
      "Oregon: 10 counties ------ DONE\n",
      "Pennsylvania: 33 counties ------ DONE\n",
      "Rhode Island: 3 counties ------ DONE\n",
      "South Carolina: 22 counties ------ DONE\n",
      "South Dakota: 2 counties ------ DONE\n",
      "Tennessee: 28 counties ------ DONE\n",
      "Texas: 54 counties ------ DONE\n",
      "Utah: 7 counties ------ DONE\n",
      "Vermont: 1 counties ------ DONE\n",
      "Virginia: 23 counties ------ DONE\n",
      "Washington: 14 counties ------ DONE\n",
      "West Virginia: 6 counties ------ DONE\n",
      "Wisconsin: 22 counties ------ DONE\n",
      "Wyoming: 2 counties ------ DONE\n",
      "50\n",
      "753\n"
     ]
    }
   ],
   "source": [
    "# Make series file containing all U.S. counties above a threshold\n",
    "data_path = \"state_data/\"\n",
    "if not os.path.exists(data_path):\n",
    "    os.makedirs(data_path)\n",
    "\n",
    "begin_period = \"2020-04-06\" # We predict new cases, so first day is not included in predictions\n",
    "end_period = \"2021-10-06\"\n",
    "file = \"us-counties.txt\"\n",
    "threshold = 10000\n",
    "# thresold = 3000\n",
    "\n",
    "data_by_state = []\n",
    "county_by_state = []\n",
    "for state in STATES:\n",
    "    data, counties = getStateData(file, state, begin_period, end_period, threshold)\n",
    "    data_by_state.append(data)\n",
    "    county_by_state.append(counties)\n",
    "    print(f'{state}: {len(counties)} counties ------ DONE')\n",
    "\n",
    "# Combine and save U.S. data\n",
    "us_data = np.hstack(data_by_state)\n",
    "COUNTIES = np.hstack(county_by_state)\n",
    "days = us_data.shape[0]\n",
    "np.savetxt(f'{data_path}/US_{len(COUNTIES)}_counties_{days}.txt', us_data, delimiter=\",\", fmt=\"%.1f\")\n",
    "\n",
    "print(len(data_by_state))\n",
    "print(len(COUNTIES)) "
   ]
  },
  {
   "cell_type": "code",
   "execution_count": 6,
   "id": "ffe12f5c",
   "metadata": {},
   "outputs": [
    {
     "name": "stdout",
     "output_type": "stream",
     "text": [
      "48\n",
      "[6001, 6005, 6007, 6009, 6013, 6015, 6017, 6019, 6021, 6023, 6025, 6029, 6031, 6033, 6037, 6039, 6041, 6045, 6047, 6053, 6055, 6057, 6059, 6061, 6065, 6067, 6069, 6071, 6073, 6075, 6077, 6079, 6081, 6083, 6085, 6087, 6089, 6093, 6095, 6097, 6099, 6101, 6103, 6107, 6109, 6111, 6113, 6115]\n"
     ]
    }
   ],
   "source": [
    "# TODO Make CA data with longer time range\n",
    "data_path = \"state_data/\"\n",
    "if not os.path.exists(data_path):\n",
    "    os.makedirs(data_path)\n",
    "\n",
    "begin_period = \"2020-04-06\" # We predict new cases, so first day is not included in predictions\n",
    "end_period = \"2021-10-06\"\n",
    "file = \"us-counties.txt\"\n",
    "state = 'California'\n",
    "\n",
    "data, counties = getStateData(file, state, begin_period, end_period, threshold=3000)\n",
    "print(len(counties))\n",
    "print(counties)"
   ]
  },
  {
   "cell_type": "code",
   "execution_count": null,
   "id": "7247b3f7",
   "metadata": {},
   "outputs": [],
   "source": [
    "print(us_data.shape)"
   ]
  },
  {
   "cell_type": "code",
   "execution_count": 170,
   "id": "dae1737e",
   "metadata": {
    "scrolled": true
   },
   "outputs": [],
   "source": [
    "# Read county adjacency file. Make county to fips dict and adjacency list.\n",
    "county_adj = pd.read_csv(\"../county_adjacency2010.csv\")\n",
    "\n",
    "adj_info = county_adj[['fipscounty', 'fipsneighbor']]\n",
    "us_adj = collections.defaultdict(list)\n",
    "for _, row in adj_info.iterrows():\n",
    "    us_adj[row['fipscounty']].append(row['fipsneighbor'])\n",
    "\n",
    "# us_adj: {fips: [neighber fips]}"
   ]
  },
  {
   "cell_type": "code",
   "execution_count": 150,
   "id": "fd4b90c5",
   "metadata": {},
   "outputs": [],
   "source": [
    "# Get geographic adjacency data given a list of fips\n",
    "def getAdjData(fips, file=us_adj, state=None):\n",
    "    \"\"\"\n",
    "    Input:\n",
    "        fips: list of fips\n",
    "        file: dictionary containing the adj data\n",
    "        state: whole us by default\n",
    "        \n",
    "    Output:\n",
    "        Create {state}_{len(fips)}_counties-adj.txt\n",
    "    \"\"\"\n",
    "    n = len(fips)\n",
    "    adj_g = np.zeros((n, n))\n",
    "\n",
    "    for fip in fips:\n",
    "        neighbors = us_adj[fip]\n",
    "        for neighbor in neighbors:\n",
    "            if neighbor in fips:\n",
    "                i, j = fips_to_idx[fip], fips_to_idx[neighbor]\n",
    "                adj_g[i, j] = 1\n",
    "           \n",
    "    filename = f'{data_path}/US_{n}_counties-adj.txt'\n",
    "    if state:\n",
    "        filename = f'{data_path}/{state}_{n}_counties-adj.txt'\n",
    "\n",
    "    np.savetxt(filename, adj_g, delimiter=\",\", fmt=\"%d\")\n",
    "    return"
   ]
  },
  {
   "cell_type": "code",
   "execution_count": 171,
   "id": "699ee219",
   "metadata": {},
   "outputs": [],
   "source": [
    "# Make US adj_g\n",
    "data_path = \"state_adj/\"\n",
    "if not os.path.exists(data_path):\n",
    "    os.makedirs(data_path)\n",
    "\n",
    "fips_to_idx = {f: i for i, f in enumerate(COUNTIES)}\n",
    "\n",
    "getAdjData(COUNTIES)\n",
    "\n",
    "# # Make adj_g for each state\n",
    "# for state, fips in zip(STATES, county_by_state):\n",
    "#     fips_to_idx = {f: i for i, f in enumerate(fips)}\n",
    "#     getAdjData(fips, state=STATES[state])\n",
    "#     print(f'{state}: {len(fips)} counties ------ DONE')"
   ]
  },
  {
   "cell_type": "code",
   "execution_count": 153,
   "id": "452bad1b",
   "metadata": {},
   "outputs": [],
   "source": [
    "# Get SCI data given a list of fips\n",
    "def getSCIData(fips, file=us_sci, state=None):\n",
    "    \"\"\"\n",
    "    Input:\n",
    "        fips: list of fips\n",
    "        file: dataframe containing all the SCI data\n",
    "        state: whole us by default\n",
    "        \n",
    "    Output:\n",
    "        Create {state}_{len(fips)}_counties-sci.txt\n",
    "    \"\"\"\n",
    "    df = us_sci\n",
    "    df_filtered = df[(df['user_loc'].isin(fips)) & (df['fr_loc'].isin(fips)) & (df['fr_loc'] >= df['user_loc'])]\n",
    "    \n",
    "    n = len(fips)\n",
    "    SCI = np.zeros((n, n))\n",
    "\n",
    "    for _, row in df_filtered.iterrows():\n",
    "        i = fips_to_idx[row['user_loc']]\n",
    "        j = fips_to_idx[row['fr_loc']]\n",
    "        SCI[i, j] = row['scaled_sci']\n",
    "        SCI[j, i] = row['scaled_sci']\n",
    "                \n",
    "    filename = f'{data_path}/US_{n}_counties-sci.txt'\n",
    "    if state:\n",
    "        filename = f'{data_path}/{state}_{n}_counties-sci.txt'\n",
    "\n",
    "    np.savetxt(filename, SCI, delimiter=\",\", fmt=\"%.1f\")\n",
    "    return"
   ]
  },
  {
   "cell_type": "code",
   "execution_count": 172,
   "id": "30701783",
   "metadata": {},
   "outputs": [],
   "source": [
    "# Make US sci\n",
    "us_sci = pd.read_csv(\"../county_county.tsv\", sep='\\t')\n",
    "\n",
    "data_path = \"state_sci/\"\n",
    "if not os.path.exists(data_path):\n",
    "    os.makedirs(data_path)\n",
    "    \n",
    "fips_to_idx = {f: i for i, f in enumerate(COUNTIES)}\n",
    "\n",
    "getSCIData(COUNTIES)\n",
    "\n",
    "# # Make SCI for each state\n",
    "# for state, fips in zip(STATES, county_by_state):\n",
    "#     fips_to_idx = {f: i for i, f in enumerate(fips)}\n",
    "#     getSCIData(fips, state=STATES[state])\n",
    "#     print(f'{state}: {len(fips)} counties ------ DONE')"
   ]
  },
  {
   "cell_type": "code",
   "execution_count": 173,
   "id": "176873b1",
   "metadata": {},
   "outputs": [],
   "source": [
    "# Save county information\n",
    "with open(\"753_Counties.txt\", 'w') as output:\n",
    "    for counties in county_by_state:\n",
    "        output.write(str(counties) + '\\n')"
   ]
  },
  {
   "cell_type": "code",
   "execution_count": 179,
   "id": "1a0645b2",
   "metadata": {},
   "outputs": [
    {
     "name": "stdout",
     "output_type": "stream",
     "text": [
      "(365, 753)\n"
     ]
    }
   ],
   "source": [
    "data_path = \"state_data/\"\n",
    "us_548 = np.loadtxt(data_path+\"US_753_counties_548.txt\", delimiter=\",\",)\n",
    "us_365 = us_548[:365, :]\n",
    "print(us_365.shape)\n",
    "np.savetxt(data_path+\"US_753_counties_365.txt\", us_365, delimiter=\",\", fmt=\"%.1f\")"
   ]
  },
  {
   "cell_type": "code",
   "execution_count": 364,
   "id": "1546b99a",
   "metadata": {},
   "outputs": [],
   "source": [
    "# Make SVI disctance matrix given a list of fips\n",
    "def computeSVIAdj(fips, us_svi, state=None):\n",
    "    \"\"\"\n",
    "    Input:\n",
    "        fips: list of fips\n",
    "        us_svi: raw SVI dataframe (pd) with selected features\n",
    "        state: whole us by default\n",
    "        \n",
    "    Output:\n",
    "        Create {state}_{len(fips)}_counties-svi.txt\n",
    "    \"\"\"\n",
    "    n = len(fips)\n",
    "    df = us_svi\n",
    "    df = df[df['FIPS'].isin(fips)]\n",
    "    df = df.sort_values('FIPS')\n",
    "    df = df.drop(columns=['FIPS'])\n",
    "    scaler = MinMaxScaler()\n",
    "    df_scaled = scaler.fit_transform(df.to_numpy())\n",
    "    distances = pdist(df_scaled, metric='euclidean')\n",
    "    dist_matrix = squareform(distances)\n",
    "#     dist_matrix = len(df.columns) - dist_matrix\n",
    "    dist_matrix = 1 - dist_matrix / len(df.columns)\n",
    "    \n",
    "    filename = f'{data_path}/US_{n}_counties-svi.txt'\n",
    "    if state:\n",
    "        filename = f'{data_path}/{state}_{n}_counties-svi_new.txt'\n",
    "    \n",
    "    np.savetxt(filename, dist_matrix, delimiter=\",\", fmt=\"%.4f\")\n",
    "    return"
   ]
  },
  {
   "cell_type": "code",
   "execution_count": 365,
   "id": "b512f6d4",
   "metadata": {},
   "outputs": [],
   "source": [
    "# SVI data\n",
    "df = pd.read_csv(\"../SVI2020_US_COUNTY.csv\")\n",
    "\n",
    "features = ['FIPS', 'AREA_SQMI', 'E_TOTPOP', 'EP_POV150', 'EP_UNEMP', 'EP_HBURD', 'EP_NOHSDP', 'EP_UNINSUR',\n",
    "           'EP_AGE65', 'EP_AGE17', 'EP_DISABL', 'EP_SNGPNT', 'EP_LIMENG', 'EP_MINRTY', 'EP_MUNIT', 'EP_MOBILE',\n",
    "            'EP_CROWD','EP_NOVEH', 'EP_GROUPQ']\n",
    "\n",
    "df = df[features]\n",
    "df['E_POPDEN'] = df['E_TOTPOP'] / df['AREA_SQMI']\n",
    "us_svi = df.drop(columns=['AREA_SQMI'])"
   ]
  },
  {
   "cell_type": "code",
   "execution_count": 366,
   "id": "42b96d93",
   "metadata": {},
   "outputs": [
    {
     "name": "stdout",
     "output_type": "stream",
     "text": [
      "753\n",
      "California: 48 counties ------ DONE\n"
     ]
    }
   ],
   "source": [
    "# Create U.S. SVI distance matrix\n",
    "data_path = \"state_svi/\"\n",
    "if not os.path.exists(data_path):\n",
    "    os.makedirs(data_path)\n",
    "\n",
    "print(len(COUNTIES))\n",
    "computeSVIAdj(COUNTIES, us_svi)\n",
    "\n",
    "# Make SVI for CA\n",
    "state = 'California'\n",
    "fips = [6001, 6005, 6007, 6009, 6013, 6015, 6017, 6019, 6021, 6023, 6025, 6029, 6031, 6033, 6037, 6039, 6041, 6045, 6047, 6053, 6055, 6057, 6059, 6061, 6065, 6067, 6069, 6071, 6073, 6075, 6077, 6079, 6081, 6083, 6085, 6087, 6089, 6093, 6095, 6097, 6099, 6101, 6103, 6107, 6109, 6111, 6113, 6115]\n",
    "\n",
    "computeSVIAdj(fips, us_svi, state=STATES[state])\n",
    "print(f'{state}: {len(fips)} counties ------ DONE')"
   ]
  },
  {
   "cell_type": "code",
   "execution_count": 336,
   "id": "7ee512ae",
   "metadata": {},
   "outputs": [
    {
     "name": "stdout",
     "output_type": "stream",
     "text": [
      "['Alameda', 'Amador', 'Butte', 'Calaveras', 'Contra Costa', 'Del Norte', 'El Dorado', 'Fresno', 'Glenn', 'Humboldt', 'Imperial', 'Kern', 'Kings', 'Lake', 'Los Angeles', 'Madera', 'Marin', 'Mendocino', 'Merced', 'Monterey', 'Napa', 'Nevada', 'Orange', 'Placer', 'Riverside', 'Sacramento', 'San Benito', 'San Bernardino', 'San Diego', 'San Francisco', 'San Joaquin', 'San Luis Obispo', 'San Mateo', 'Santa Barbara', 'Santa Clara', 'Santa Cruz', 'Shasta', 'Siskiyou', 'Solano', 'Sonoma', 'Stanislaus', 'Sutter', 'Tehama', 'Tulare', 'Tuolumne', 'Ventura', 'Yolo', 'Yuba']\n"
     ]
    }
   ],
   "source": [
    "# Get CA 48 County names\n",
    "ca_fips = [6001, 6005, 6007, 6009, 6013, 6015, 6017, 6019, 6021, 6023, 6025, 6029, 6031, 6033, 6037, 6039, 6041, 6045, 6047, 6053, 6055, 6057, 6059, 6061, 6065, 6067, 6069, 6071, 6073, 6075, 6077, 6079, 6081, 6083, 6085, 6087, 6089, 6093, 6095, 6097, 6099, 6101, 6103, 6107, 6109, 6111, 6113, 6115]\n",
    "ca_counties = []\n",
    "\n",
    "df = pd.read_csv(\"../fips-by-state.csv\", encoding= 'unicode_escape')\n",
    "df[\"fips\"] = df[\"fips\"].astype(int)\n",
    "df = df[df[\"state\"]==\"CA\"]\n",
    "df = df.drop(columns=[\"state\"])\n",
    "fips_to_cname = {}\n",
    "for _, row in df.iterrows():\n",
    "    fips_to_cname[row['fips']] = row['name']\n",
    "    \n",
    "ca_counties = [fips_to_cname[fips][:-7] for fips in ca_fips]\n",
    "print(ca_counties)"
   ]
  },
  {
   "cell_type": "code",
   "execution_count": 377,
   "id": "7e7c546a",
   "metadata": {},
   "outputs": [
    {
     "name": "stdout",
     "output_type": "stream",
     "text": [
      "tensor(-1.1841e-07, dtype=torch.float64)\n"
     ]
    }
   ],
   "source": [
    "# Visualize Adj, SCI, and SVI matrices.\n",
    "adj_geo = torch.from_numpy(np.loadtxt(\"state_adj/CA_48_counties-adj.txt\", delimiter=\",\"))\n",
    "adj_sci = torch.from_numpy(np.loadtxt(\"state_sci/CA_48_counties-sci.txt\", delimiter=\",\"))\n",
    "adj_svi = torch.from_numpy(np.loadtxt(\"state_svi/CA_48_counties-svi_new.txt\", delimiter=\",\"))\n",
    "adj_svi_2 = torch.from_numpy(np.loadtxt(\"state_svi/CA_48_counties-svi.txt\", delimiter=\",\"))\n",
    "\n",
    "def NormalizeAdj(adj):\n",
    "    rowsum = 1. / torch.sqrt(adj.sum(dim=0)) # 1/sqrt(degree)\n",
    "    normalized_adj = rowsum[:, np.newaxis] * adj * rowsum[np.newaxis, :]\n",
    "    return normalized_adj\n",
    "\n",
    "a = NormalizeAdj(adj_svi)\n",
    "b = NormalizeAdj(adj_svi_2)\n",
    "print(torch.sum(a-b))\n",
    "\n",
    "adj_geo = NormalizeAdj(adj_geo)\n",
    "adj_sci = NormalizeAdj(adj_sci)\n",
    "adj_svi = NormalizeAdj(adj_svi)\n",
    "\n",
    "cmap = \"Blues\"\n",
    "fs = 20\n",
    "# cmap = None\n",
    "\n",
    "# plt.figure(0, figsize=(12, 10))\n",
    "# sns.heatmap(adj_geo, cmap=cmap)\n",
    "# plt.title(\"Geolocation\", fontsize=fs)\n",
    "# plt.savefig(\"ca_geo.png\")\n",
    "# plt.show()\n",
    "\n",
    "# plt.figure(1, figsize=(12, 10))\n",
    "# sns.heatmap(adj_sci, cmap=cmap)\n",
    "# plt.title(\"SCI\", fontsize=fs)\n",
    "# plt.savefig(\"ca_sci.png\")\n",
    "# plt.show()\n",
    "\n",
    "# plt.figure(2, figsize=(12, 10))\n",
    "# sns.heatmap(adj_svi, cmap=cmap)\n",
    "# plt.title(\"SVI\", fontsize=fs)\n",
    "# plt.savefig(\"ca_svi.png\")\n",
    "# plt.show()"
   ]
  },
  {
   "cell_type": "code",
   "execution_count": 385,
   "id": "89634f70",
   "metadata": {},
   "outputs": [
    {
     "name": "stdout",
     "output_type": "stream",
     "text": [
      "[ 123.   31.   56.   16.  150.   18.   21.  292.    0.   43.   43.  453.\n",
      "   47.   16. 1455.   57.   16.   25.   55.   29.   27.   13.  384.   98.\n",
      "  537.  224.    4.  293.  669.   28.   78.   23.   50.   10.  131.   23.\n",
      "  115.   18.   57.   36.  113.    9.   22.  136.   36.  181.   21.   47.]\n",
      "[ 1.000e+00  0.000e+00  0.000e+00  1.000e+00  0.000e+00  0.000e+00\n",
      "  1.000e+00  1.000e+00  0.000e+00  0.000e+00  0.000e+00  0.000e+00\n",
      "  0.000e+00  0.000e+00  0.000e+00  0.000e+00  0.000e+00  0.000e+00\n",
      "  0.000e+00  0.000e+00  0.000e+00  0.000e+00  0.000e+00  0.000e+00\n",
      "  0.000e+00  1.000e+00  0.000e+00  0.000e+00  1.000e+00  1.000e+00\n",
      "  0.000e+00  0.000e+00 -1.000e+00  0.000e+00  2.000e+00  0.000e+00\n",
      "  0.000e+00  2.000e+00  0.000e+00  0.000e+00  0.000e+00  2.000e+00\n",
      "  2.000e+00  4.000e+00  1.000e+00  3.000e+00  0.000e+00  0.000e+00\n",
      "  1.000e+00  5.000e+00  0.000e+00  0.000e+00  4.000e+00  0.000e+00\n",
      "  0.000e+00  7.000e+00  0.000e+00  4.000e+00  5.000e+00  5.000e+00\n",
      "  0.000e+00  0.000e+00  3.000e+00  3.000e+00  2.000e+00  0.000e+00\n",
      "  1.000e+00  0.000e+00  0.000e+00  8.000e+00  6.000e+00  2.000e+00\n",
      "  0.000e+00  4.000e+00  0.000e+00  0.000e+00  1.700e+01  8.000e+00\n",
      "  8.000e+00  6.000e+00  1.000e+01  0.000e+00  0.000e+00  2.500e+01\n",
      "  7.000e+00  1.400e+01  1.700e+01  0.000e+00  6.000e+00  1.200e+01\n",
      "  4.400e+01  7.000e+00  2.000e+01  2.400e+01  1.900e+01  0.000e+00\n",
      "  0.000e+00  3.800e+01  4.000e+01  2.100e+01  5.000e+01  3.500e+01\n",
      "  0.000e+00  2.900e+01  8.900e+01  1.800e+01  2.500e+01  3.900e+01\n",
      "  3.600e+01  0.000e+00  5.200e+01  1.200e+01  4.400e+01  1.700e+01\n",
      "  2.400e+01  3.400e+01  0.000e+00  3.500e+01  1.100e+01  2.500e+01\n",
      "  1.700e+01  3.100e+01  3.500e+01  0.000e+00  4.500e+01  9.800e+01\n",
      "  4.200e+01  2.500e+01  1.600e+01  4.900e+01  1.400e+01  2.500e+01\n",
      "  2.300e+01  3.100e+01  3.100e+01  4.300e+01  1.800e+01  2.700e+01\n",
      "  3.600e+01  4.600e+01  3.500e+01  4.500e+01  7.100e+01  3.300e+01\n",
      "  3.800e+01  6.200e+01  7.800e+01  1.200e+02  6.200e+01  4.600e+01\n",
      "  7.300e+01  0.000e+00  7.900e+01  4.000e+01  1.700e+01  0.000e+00\n",
      "  9.800e+01  2.900e+01  1.500e+01  2.400e+01  1.100e+01  2.000e+00\n",
      "  5.300e+01  9.000e+00  1.600e+01  1.800e+01  1.000e+01  1.600e+01\n",
      "  5.000e+00  7.000e+00  1.400e+01  1.300e+01  1.600e+01  8.000e+00\n",
      "  6.000e+00  4.000e+00  1.100e+01  1.000e+01  7.000e+00  1.400e+01\n",
      "  1.500e+01  9.000e+00  7.000e+00  1.500e+01  2.000e+00  8.000e+00\n",
      "  2.100e+01  6.000e+00  5.000e+00  8.000e+00  1.700e+01  3.000e+00\n",
      "  5.000e+00  4.000e+00  8.000e+00  7.000e+00  7.000e+00  1.000e+00\n",
      "  1.400e+01  6.000e+00  1.200e+01  1.900e+01  9.000e+00  1.800e+01\n",
      "  8.000e+00  2.100e+01  1.000e+01  1.600e+01  1.200e+01  1.400e+01\n",
      "  1.200e+01  1.300e+01  1.400e+01  1.400e+01  1.500e+01  8.000e+00\n",
      "  3.500e+01  2.100e+01  9.000e+00  4.400e+01  2.800e+01  3.000e+00\n",
      "  3.200e+01  2.800e+01  3.900e+01  3.500e+01  4.400e+01  4.400e+01\n",
      "  0.000e+00  4.000e+01  9.800e+01  5.000e+01  4.100e+01  0.000e+00\n",
      "  4.100e+01  0.000e+00  0.000e+00  2.370e+02  6.400e+01  4.900e+01\n",
      "  5.800e+01  1.150e+02  0.000e+00  3.800e+01  1.830e+02  6.800e+01\n",
      "  5.100e+01  7.200e+01  8.300e+01  2.900e+01  3.100e+01  1.310e+02\n",
      "  4.710e+02  9.400e+01  9.700e+01  1.410e+02  0.000e+00  2.120e+02\n",
      "  2.260e+02  1.290e+02  1.110e+02  4.000e+00  1.280e+02  1.570e+02\n",
      "  9.500e+01  8.300e+01  1.220e+02  9.600e+01  1.210e+02  1.500e+01\n",
      "  1.840e+02  1.610e+02  1.000e+02  1.130e+02  1.330e+02  1.210e+02\n",
      "  1.420e+02  7.100e+01  1.220e+02  1.250e+02  1.180e+02  9.600e+01\n",
      "  1.220e+02  1.140e+02  1.060e+02  1.260e+02  5.200e+01  6.300e+01\n",
      "  5.400e+01  5.400e+01  6.100e+01  6.800e+01  4.600e+01  6.300e+01\n",
      "  4.500e+01  7.800e+01  4.500e+01  4.900e+01  8.500e+01  5.500e+01\n",
      "  3.800e+01  4.800e+01  4.400e+01  4.800e+01  3.100e+01  3.500e+01\n",
      "  5.900e+01  3.300e+01  1.100e+01  3.900e+01  3.100e+01  3.000e+01\n",
      "  3.100e+01  4.400e+01  1.800e+01  6.000e+00  2.500e+01  2.200e+01\n",
      "  2.100e+01  3.200e+01  1.500e+01  1.700e+01  0.000e+00  3.200e+01\n",
      "  2.800e+01  7.000e+00  1.900e+01  2.100e+01  8.000e+00  1.100e+01\n",
      "  2.600e+01  7.000e+00  1.900e+01  1.700e+01  1.500e+01  1.000e+01\n",
      "  7.000e+00  1.000e+01  4.000e+00  1.400e+01  1.600e+01  5.000e+00\n",
      "  9.000e+00  1.000e+00  1.300e+01  1.600e+01  9.000e+00  1.200e+01\n",
      "  8.000e+00  9.000e+00  3.000e+00  1.600e+01  2.500e+01  1.800e+01\n",
      "  8.000e+00  0.000e+00  7.000e+00  6.000e+00  5.000e+00  2.500e+01\n",
      "  7.000e+00  2.200e+01  9.000e+00  1.600e+01  9.000e+00  1.200e+01\n",
      "  9.000e+00  9.000e+00  4.000e+01  2.800e+01  5.000e+00  1.000e+00\n",
      "  9.000e+00  1.600e+01  1.600e+01  2.000e+01  2.400e+01  1.800e+01\n",
      "  1.000e+01  1.800e+01  2.400e+01  1.300e+01  1.600e+01  6.000e+00\n",
      "  3.100e+01  1.100e+01  1.800e+01  2.400e+01  2.500e+01  2.500e+01\n",
      "  3.300e+01  1.400e+01  5.000e+00  1.900e+01  2.400e+01  2.200e+01\n",
      "  1.400e+01  1.900e+01  2.300e+01  8.000e+00  1.500e+01  1.800e+01\n",
      "  2.500e+01  2.500e+01  1.900e+01  4.500e+01  4.000e+00  2.000e+01\n",
      "  3.400e+01  2.200e+01  1.600e+01  2.900e+01  6.000e+00  8.000e+00\n",
      "  1.600e+01  3.700e+01  6.900e+01  6.000e+00  1.800e+01  2.000e+00\n",
      "  2.000e+00 -2.000e+00  5.000e+00  4.600e+01  1.600e+01  2.000e+01\n",
      "  1.300e+01  6.000e+00  7.000e+00  1.500e+01  1.000e+01  1.100e+01\n",
      "  0.000e+00  1.000e+01  2.700e+01  7.000e+00  1.500e+01  9.000e+00\n",
      "  9.000e+00  6.000e+00  9.000e+00  0.000e+00 -6.000e+00  4.000e+00\n",
      "  7.000e+00  9.000e+00  1.100e+01  3.000e+00  1.000e+00 -2.800e+01\n",
      "  7.000e+00  8.000e+00  0.000e+00  0.000e+00  0.000e+00  5.600e+01\n",
      "  4.000e+00  1.986e+03  1.400e+01  0.000e+00  0.000e+00  3.000e+01\n",
      "  2.000e+00  6.000e+00  1.100e+01  1.100e+01  0.000e+00  0.000e+00\n",
      "  6.400e+01  1.300e+01  1.500e+01  8.500e+01  4.300e+01  0.000e+00\n",
      "  0.000e+00  9.200e+01  8.000e+00  4.500e+01  1.050e+02  5.100e+01\n",
      "  0.000e+00  0.000e+00  1.710e+02  3.600e+01  2.600e+01  8.900e+01\n",
      "  5.500e+01  0.000e+00  1.500e+02  7.700e+01  2.200e+01  4.000e+01\n",
      "  5.200e+01  1.010e+02  9.400e+01  9.200e+01  7.100e+01  2.000e+01\n",
      "  7.400e+01  3.560e+02  9.200e+01  9.900e+01  9.700e+01  7.700e+01\n",
      "  5.600e+01  1.170e+02  2.850e+02  1.200e+02  1.180e+02  2.100e+02\n",
      "  1.150e+02  1.170e+02  1.770e+02  3.400e+02  1.080e+02  1.050e+02\n",
      "  1.440e+02  1.010e+02  8.400e+01  1.350e+02  2.310e+02  9.900e+01\n",
      "  1.770e+02  1.670e+02  3.900e+01  1.360e+02  1.230e+02  3.880e+02\n",
      "  8.600e+01  1.200e+02  9.100e+01  1.020e+02  7.200e+01  9.400e+01\n",
      "  2.490e+02  5.900e+01  0.000e+00  0.000e+00  2.380e+02  5.300e+01\n",
      "  7.700e+01  2.310e+02  7.600e+01  0.000e+00  0.000e+00  1.550e+02\n",
      "  1.500e+01  5.600e+01]\n"
     ]
    },
    {
     "data": {
      "image/png": "[encoded data removed]",
      "text/plain": [
       "<Figure size 640x480 with 1 Axes>"
      ]
     },
     "metadata": {},
     "output_type": "display_data"
    }
   ],
   "source": [
    "# Case data statistics\n",
    "mts = np.loadtxt(\"state_data/CA_48_counties_548.txt\", delimiter=\",\")\n",
    "print(mts[-1])\n",
    "plt.figure(0)\n",
    "print(mts[:, 2])\n",
    "plt.plot(mts[:, 2])\n",
    "for i in range(mts.shape[1]):\n",
    "    plt.plot(mts[:, i])\n",
    "plt.show()\n",
    "# print(torch.argmax(mts[0]), torch.argmin(mts[0]))\n",
    "# print(COUNTIES[484])\n",
    "# print(mts)"
   ]
  },
  {
   "cell_type": "code",
   "execution_count": 346,
   "id": "9ddff945",
   "metadata": {
    "scrolled": true
   },
   "outputs": [
    {
     "ename": "KeyError",
     "evalue": "6001",
     "output_type": "error",
     "traceback": [
      "\u001b[0;31m---------------------------------------------------------------------------\u001b[0m",
      "\u001b[0;31mKeyError\u001b[0m                                  Traceback (most recent call last)",
      "\u001b[0;32m/var/folders/dt/hfjc42l539z1128c2hk6lms80000gn/T/ipykernel_87393/339478818.py\u001b[0m in \u001b[0;36m<module>\u001b[0;34m\u001b[0m\n\u001b[1;32m      7\u001b[0m \u001b[0;34m\u001b[0m\u001b[0m\n\u001b[1;32m      8\u001b[0m \u001b[0;32mfor\u001b[0m \u001b[0m_\u001b[0m\u001b[0;34m,\u001b[0m \u001b[0mrow\u001b[0m \u001b[0;32min\u001b[0m \u001b[0mdf_filtered\u001b[0m\u001b[0;34m.\u001b[0m\u001b[0miterrows\u001b[0m\u001b[0;34m(\u001b[0m\u001b[0;34m)\u001b[0m\u001b[0;34m:\u001b[0m\u001b[0;34m\u001b[0m\u001b[0;34m\u001b[0m\u001b[0m\n\u001b[0;32m----> 9\u001b[0;31m     \u001b[0mi\u001b[0m \u001b[0;34m=\u001b[0m \u001b[0mfips_to_idx\u001b[0m\u001b[0;34m[\u001b[0m\u001b[0mrow\u001b[0m\u001b[0;34m[\u001b[0m\u001b[0;34m'user_loc'\u001b[0m\u001b[0;34m]\u001b[0m\u001b[0;34m]\u001b[0m\u001b[0;34m\u001b[0m\u001b[0;34m\u001b[0m\u001b[0m\n\u001b[0m\u001b[1;32m     10\u001b[0m     \u001b[0mj\u001b[0m \u001b[0;34m=\u001b[0m \u001b[0mfips_to_idx\u001b[0m\u001b[0;34m[\u001b[0m\u001b[0mrow\u001b[0m\u001b[0;34m[\u001b[0m\u001b[0;34m'fr_loc'\u001b[0m\u001b[0;34m]\u001b[0m\u001b[0;34m]\u001b[0m\u001b[0;34m\u001b[0m\u001b[0;34m\u001b[0m\u001b[0m\n\u001b[1;32m     11\u001b[0m     \u001b[0mSCI\u001b[0m\u001b[0;34m[\u001b[0m\u001b[0mi\u001b[0m\u001b[0;34m,\u001b[0m \u001b[0mj\u001b[0m\u001b[0;34m]\u001b[0m \u001b[0;34m=\u001b[0m \u001b[0mrow\u001b[0m\u001b[0;34m[\u001b[0m\u001b[0;34m'scaled_sci'\u001b[0m\u001b[0;34m]\u001b[0m\u001b[0;34m\u001b[0m\u001b[0;34m\u001b[0m\u001b[0m\n",
      "\u001b[0;31mKeyError\u001b[0m: 6001"
     ]
    }
   ],
   "source": [
    "# Make SCI\n",
    "df = pd.read_csv(\"../county_county.tsv\", sep='\\t')\n",
    "df_filtered = df[(df['user_loc'].isin(fips)) & (df['fr_loc'].isin(fips)) & (df['fr_loc'] >= df['user_loc'])]\n",
    "\n",
    "n = len(counties)\n",
    "SCI = np.ones((n, n))\n",
    "\n",
    "for _, row in df_filtered.iterrows():\n",
    "    i = fips_to_idx[row['user_loc']]\n",
    "    j = fips_to_idx[row['fr_loc']]\n",
    "    SCI[i, j] = row['scaled_sci']\n",
    "    SCI[j, i] = row['scaled_sci']\n",
    "print(SCI)\n",
    "np.savetxt(\"ga_counties-91-sci.txt\", SCI, delimiter=\",\", fmt=\"%.1f\")"
   ]
  },
  {
   "cell_type": "code",
   "execution_count": 132,
   "id": "078ff80c",
   "metadata": {
    "scrolled": false
   },
   "outputs": [
    {
     "name": "stdout",
     "output_type": "stream",
     "text": [
      "Index(['FIPS', 'AREA_SQMI', 'E_TOTPOP', 'E_HU', 'E_HH', 'EP_POV150',\n",
      "       'EP_UNEMP', 'EP_HBURD', 'EP_NOHSDP', 'EP_UNINSUR', 'EP_AGE65',\n",
      "       'EP_AGE17', 'EP_DISABL', 'EP_SNGPNT', 'EP_LIMENG', 'EP_MINRTY',\n",
      "       'EP_MUNIT', 'EP_MOBILE', 'EP_CROWD', 'EP_NOVEH', 'EP_GROUPQ',\n",
      "       'E_POPDEN'],\n",
      "      dtype='object')\n"
     ]
    }
   ],
   "source": [
    "# SVI data\n",
    "df = pd.read_csv(\"../SVI2020_US_COUNTY.csv\")\n",
    "\n",
    "# features = ['FIPS', 'AREA_SQMI', 'E_TOTPOP', 'E_HU', 'E_HH', 'E_POV150', 'E_UNEMP', 'E_HBURD', 'E_NOHSDP', 'E_UNINSUR',\n",
    "#            'E_AGE65', 'E_AGE17', 'E_DISABL', 'E_SNGPNT', 'E_LIMENG', 'E_MINRTY', 'E_MUNIT', 'E_MOBILE', 'E_CROWD',\n",
    "#            'E_NOVEH', 'E_GROUPQ']\n",
    "\n",
    "features = ['FIPS', 'AREA_SQMI', 'E_TOTPOP', 'E_HU', 'E_HH', 'EP_POV150', 'EP_UNEMP', 'EP_HBURD', 'EP_NOHSDP', 'EP_UNINSUR',\n",
    "           'EP_AGE65', 'EP_AGE17', 'EP_DISABL', 'EP_SNGPNT', 'EP_LIMENG', 'EP_MINRTY', 'EP_MUNIT', 'EP_MOBILE',\n",
    "            'EP_CROWD','EP_NOVEH', 'EP_GROUPQ']\n",
    "\n",
    "df = df[features]\n",
    "df = df[df['FIPS'].isin(fips)]\n",
    "df = df.sort_values('FIPS')\n",
    "df['E_POPDEN'] = df['E_TOTPOP'] / df['AREA_SQMI']\n",
    "\n",
    "# df.to_csv(\"ca_counties-47-svi.csv\", index=False)\n",
    "\n",
    "# data = pd.read_csv(\"ca_counties-47-svi.csv\")\n",
    "print(df.columns)"
   ]
  },
  {
   "cell_type": "code",
   "execution_count": 128,
   "id": "3a1fb761",
   "metadata": {
    "scrolled": false
   },
   "outputs": [
    {
     "name": "stdout",
     "output_type": "stream",
     "text": [
      "            AREA_SQMI  E_TOTPOP      E_HU      E_HH  EP_POV150  EP_UNEMP  \\\n",
      "AREA_SQMI    1.000000  0.027603  0.023901  0.022226   0.034170  0.153017   \n",
      "E_TOTPOP     0.027603  1.000000  0.994018  0.995987  -0.121818  0.030292   \n",
      "E_HU         0.023901  0.994018  1.000000  0.999002  -0.125269  0.032586   \n",
      "E_HH         0.022226  0.995987  0.999002  1.000000  -0.128726  0.028733   \n",
      "EP_POV150    0.034170 -0.121818 -0.125269 -0.128726   1.000000  0.558046   \n",
      "EP_UNEMP     0.153017  0.030292  0.032586  0.028733   0.558046  1.000000   \n",
      "EP_HBURD    -0.015246  0.298875  0.314805  0.306906   0.247127  0.281108   \n",
      "EP_NOHSDP   -0.014164 -0.044205 -0.059177 -0.059079   0.655934  0.374666   \n",
      "EP_UNINSUR   0.130211 -0.049643 -0.058547 -0.061260   0.442278  0.250759   \n",
      "EP_AGE65    -0.067394 -0.207974 -0.196660 -0.205422  -0.032287 -0.125708   \n",
      "EP_AGE17     0.105691  0.031529  0.010508  0.018547   0.098380  0.057335   \n",
      "EP_DISABL   -0.035231 -0.228974 -0.228143 -0.232407   0.530183  0.343873   \n",
      "EP_SNGPNT    0.041679  0.078924  0.078437  0.078688   0.471380  0.413909   \n",
      "EP_LIMENG    0.044183  0.297355  0.286563  0.286716   0.076919  0.045507   \n",
      "EP_MINRTY    0.151591  0.242301  0.237232  0.236190   0.398345  0.419768   \n",
      "EP_MUNIT    -0.010753  0.495797  0.524394  0.520856  -0.220838 -0.048795   \n",
      "EP_MOBILE   -0.016696 -0.224861 -0.233936 -0.235970   0.542369  0.305043   \n",
      "EP_CROWD     0.399347  0.144977  0.130194  0.131152   0.276122  0.341876   \n",
      "EP_NOVEH     0.323122  0.149048  0.170635  0.167340   0.374040  0.417245   \n",
      "EP_GROUPQ    0.079644 -0.070807 -0.074641 -0.074223   0.154890  0.089863   \n",
      "E_POPDEN    -0.031246  0.331023  0.365748  0.361775  -0.044145  0.025138   \n",
      "\n",
      "            EP_HBURD  EP_NOHSDP  EP_UNINSUR  EP_AGE65  ...  EP_DISABL  \\\n",
      "AREA_SQMI  -0.015246  -0.014164    0.130211 -0.067394  ...  -0.035231   \n",
      "E_TOTPOP    0.298875  -0.044205   -0.049643 -0.207974  ...  -0.228974   \n",
      "E_HU        0.314805  -0.059177   -0.058547 -0.196660  ...  -0.228143   \n",
      "E_HH        0.306906  -0.059079   -0.061260 -0.205422  ...  -0.232407   \n",
      "EP_POV150   0.247127   0.655934    0.442278 -0.032287  ...   0.530183   \n",
      "EP_UNEMP    0.281108   0.374666    0.250759 -0.125708  ...   0.343873   \n",
      "EP_HBURD    1.000000   0.050024    0.018940 -0.184512  ...  -0.033125   \n",
      "EP_NOHSDP   0.050024   1.000000    0.536911 -0.148872  ...   0.388184   \n",
      "EP_UNINSUR  0.018940   0.536911    1.000000 -0.154399  ...   0.097712   \n",
      "EP_AGE65   -0.184512  -0.148872   -0.154399  1.000000  ...   0.412547   \n",
      "EP_AGE17   -0.120823   0.220534    0.328679 -0.564651  ...  -0.267691   \n",
      "EP_DISABL  -0.033125   0.388184    0.097712  0.412547  ...   1.000000   \n",
      "EP_SNGPNT   0.342967   0.382830    0.292102 -0.432493  ...   0.056228   \n",
      "EP_LIMENG   0.177278   0.472041    0.352038 -0.291398  ...  -0.221425   \n",
      "EP_MINRTY   0.347975   0.478608    0.495190 -0.394431  ...  -0.091112   \n",
      "EP_MUNIT    0.426960  -0.242563   -0.158533 -0.337982  ...  -0.417079   \n",
      "EP_MOBILE  -0.097389   0.534046    0.331416  0.131264  ...   0.516774   \n",
      "EP_CROWD    0.100275   0.333493    0.431525 -0.312883  ...  -0.080462   \n",
      "EP_NOVEH    0.257015   0.245468    0.135827 -0.157473  ...   0.109533   \n",
      "EP_GROUPQ   0.065958   0.159112    0.029775 -0.150007  ...   0.058500   \n",
      "E_POPDEN    0.194309  -0.011981   -0.051229 -0.118169  ...  -0.126477   \n",
      "\n",
      "            EP_SNGPNT  EP_LIMENG  EP_MINRTY  EP_MUNIT  EP_MOBILE  EP_CROWD  \\\n",
      "AREA_SQMI    0.041679   0.044183   0.151591 -0.010753  -0.016696  0.399347   \n",
      "E_TOTPOP     0.078924   0.297355   0.242301  0.495797  -0.224861  0.144977   \n",
      "E_HU         0.078437   0.286563   0.237232  0.524394  -0.233936  0.130194   \n",
      "E_HH         0.078688   0.286716   0.236190  0.520856  -0.235970  0.131152   \n",
      "EP_POV150    0.471380   0.076919   0.398345 -0.220838   0.542369  0.276122   \n",
      "EP_UNEMP     0.413909   0.045507   0.419768 -0.048795   0.305043  0.341876   \n",
      "EP_HBURD     0.342967   0.177278   0.347975  0.426960  -0.097389  0.100275   \n",
      "EP_NOHSDP    0.382830   0.472041   0.478608 -0.242563   0.534046  0.333493   \n",
      "EP_UNINSUR   0.292102   0.352038   0.495190 -0.158533   0.331416  0.431525   \n",
      "EP_AGE65    -0.432493  -0.291398  -0.394431 -0.337982   0.131264 -0.312883   \n",
      "EP_AGE17     0.353278   0.286544   0.292667 -0.033792  -0.059228  0.407946   \n",
      "EP_DISABL    0.056228  -0.221425  -0.091112 -0.417079   0.516774 -0.080462   \n",
      "EP_SNGPNT    1.000000   0.181309   0.579892  0.073924   0.131427  0.290327   \n",
      "EP_LIMENG    0.181309   1.000000   0.543926  0.253769  -0.044465  0.403102   \n",
      "EP_MINRTY    0.579892   0.543926   1.000000  0.202089   0.159505  0.508478   \n",
      "EP_MUNIT     0.073924   0.253769   0.202089  1.000000  -0.435286  0.099305   \n",
      "EP_MOBILE    0.131427  -0.044465   0.159505 -0.435286   1.000000  0.079375   \n",
      "EP_CROWD     0.290327   0.403102   0.508478  0.099305   0.079375  1.000000   \n",
      "EP_NOVEH     0.336203   0.080406   0.342316  0.275842   0.008525  0.443727   \n",
      "EP_GROUPQ    0.079981   0.020752   0.153433  0.003733   0.096971  0.022627   \n",
      "E_POPDEN     0.055447   0.200751   0.153415  0.553370  -0.145963  0.101474   \n",
      "\n",
      "            EP_NOVEH  EP_GROUPQ  E_POPDEN  \n",
      "AREA_SQMI   0.323122   0.079644 -0.031246  \n",
      "E_TOTPOP    0.149048  -0.070807  0.331023  \n",
      "E_HU        0.170635  -0.074641  0.365748  \n",
      "E_HH        0.167340  -0.074223  0.361775  \n",
      "EP_POV150   0.374040   0.154890 -0.044145  \n",
      "EP_UNEMP    0.417245   0.089863  0.025138  \n",
      "EP_HBURD    0.257015   0.065958  0.194309  \n",
      "EP_NOHSDP   0.245468   0.159112 -0.011981  \n",
      "EP_UNINSUR  0.135827   0.029775 -0.051229  \n",
      "EP_AGE65   -0.157473  -0.150007 -0.118169  \n",
      "EP_AGE17    0.050524  -0.307015 -0.041847  \n",
      "EP_DISABL   0.109533   0.058500 -0.126477  \n",
      "EP_SNGPNT   0.336203   0.079981  0.055447  \n",
      "EP_LIMENG   0.080406   0.020752  0.200751  \n",
      "EP_MINRTY   0.342316   0.153433  0.153415  \n",
      "EP_MUNIT    0.275842   0.003733  0.553370  \n",
      "EP_MOBILE   0.008525   0.096971 -0.145963  \n",
      "EP_CROWD    0.443727   0.022627  0.101474  \n",
      "EP_NOVEH    1.000000   0.138418  0.481504  \n",
      "EP_GROUPQ   0.138418   1.000000 -0.017130  \n",
      "E_POPDEN    0.481504  -0.017130  1.000000  \n",
      "\n",
      "[21 rows x 21 columns]\n",
      "17\n"
     ]
    },
    {
     "data": {
      "image/png": "[encoded data removed]",
      "text/plain": [
       "<Figure size 640x480 with 2 Axes>"
      ]
     },
     "metadata": {},
     "output_type": "display_data"
    }
   ],
   "source": [
    "df = pd.read_csv(\"../SVI2020_US_COUNTY.csv\")\n",
    "\n",
    "# features = ['FIPS', 'AREA_SQMI', 'E_TOTPOP', 'E_HU', 'E_HH', 'E_POV150', 'E_UNEMP', 'E_HBURD', 'E_NOHSDP', 'E_UNINSUR',\n",
    "#            'E_AGE65', 'E_AGE17', 'E_DISABL', 'E_SNGPNT', 'E_LIMENG', 'E_MINRTY', 'E_MUNIT', 'E_MOBILE', 'E_CROWD',\n",
    "#            'E_NOVEH', 'E_GROUPQ']\n",
    "\n",
    "features = ['AREA_SQMI', 'E_TOTPOP', 'E_HU', 'E_HH', 'EP_POV150', 'EP_UNEMP', 'EP_HBURD', 'EP_NOHSDP', 'EP_UNINSUR',\n",
    "           'EP_AGE65', 'EP_AGE17', 'EP_DISABL', 'EP_SNGPNT', 'EP_LIMENG', 'EP_MINRTY', 'EP_MUNIT', 'EP_MOBILE',\n",
    "            'EP_CROWD','EP_NOVEH', 'EP_GROUPQ']\n",
    "\n",
    "df = df[features]\n",
    "df['E_POPDEN'] = df['E_TOTPOP'] / df['AREA_SQMI']\n",
    "\n",
    "pcm = df.corr()\n",
    "print(pcm)\n",
    "sns.heatmap(pcm)\n",
    "\n",
    "selected_features = ['E_TOTPOP', 'EP_POV150', 'EP_UNEMP', 'EP_HBURD', 'EP_NOHSDP', 'EP_UNINSUR',\n",
    "           'EP_AGE65', 'EP_AGE17', 'EP_DISABL', 'EP_SNGPNT', 'EP_LIMENG', 'EP_MINRTY', 'EP_MUNIT', 'EP_MOBILE',\n",
    "            'EP_CROWD','EP_NOVEH', 'EP_GROUPQ', 'E_POPDEN']\n",
    "print(len(selected_features))"
   ]
  },
  {
   "cell_type": "code",
   "execution_count": 39,
   "id": "78e2349c",
   "metadata": {
    "scrolled": true
   },
   "outputs": [
    {
     "name": "stdout",
     "output_type": "stream",
     "text": [
      "Is Baldwin and Barrow connected? (1 or 0)a\n"
     ]
    },
    {
     "ename": "ValueError",
     "evalue": "could not convert string to float: 'a'",
     "output_type": "error",
     "traceback": [
      "\u001b[0;31m---------------------------------------------------------------------------\u001b[0m",
      "\u001b[0;31mValueError\u001b[0m                                Traceback (most recent call last)",
      "\u001b[0;32m/var/folders/dt/hfjc42l539z1128c2hk6lms80000gn/T/ipykernel_44315/157139403.py\u001b[0m in \u001b[0;36m<module>\u001b[0;34m\u001b[0m\n\u001b[1;32m      8\u001b[0m             \u001b[0;32mcontinue\u001b[0m\u001b[0;34m\u001b[0m\u001b[0;34m\u001b[0m\u001b[0m\n\u001b[1;32m      9\u001b[0m         \u001b[0mval\u001b[0m \u001b[0;34m=\u001b[0m \u001b[0minput\u001b[0m\u001b[0;34m(\u001b[0m\u001b[0;34mf'Is {columns[i]} and {columns[j]} connected? (1 or 0)'\u001b[0m\u001b[0;34m)\u001b[0m\u001b[0;34m\u001b[0m\u001b[0;34m\u001b[0m\u001b[0m\n\u001b[0;32m---> 10\u001b[0;31m         \u001b[0madj\u001b[0m\u001b[0;34m[\u001b[0m\u001b[0mi\u001b[0m\u001b[0;34m,\u001b[0m \u001b[0mj\u001b[0m\u001b[0;34m]\u001b[0m \u001b[0;34m=\u001b[0m \u001b[0mfloat\u001b[0m\u001b[0;34m(\u001b[0m\u001b[0mval\u001b[0m\u001b[0;34m)\u001b[0m\u001b[0;34m\u001b[0m\u001b[0;34m\u001b[0m\u001b[0m\n\u001b[0m\u001b[1;32m     11\u001b[0m         \u001b[0madj\u001b[0m\u001b[0;34m[\u001b[0m\u001b[0mj\u001b[0m\u001b[0;34m,\u001b[0m \u001b[0mi\u001b[0m\u001b[0;34m]\u001b[0m \u001b[0;34m=\u001b[0m \u001b[0mfloat\u001b[0m\u001b[0;34m(\u001b[0m\u001b[0mval\u001b[0m\u001b[0;34m)\u001b[0m\u001b[0;34m\u001b[0m\u001b[0;34m\u001b[0m\u001b[0m\n\u001b[1;32m     12\u001b[0m \u001b[0;31m# np.savetxt(data_path + \"/ca_counties-adj.txt\", adj)\u001b[0m\u001b[0;34m\u001b[0m\u001b[0;34m\u001b[0m\u001b[0;34m\u001b[0m\u001b[0m\n",
      "\u001b[0;31mValueError\u001b[0m: could not convert string to float: 'a'"
     ]
    }
   ],
   "source": [
    "# Make geographical adjacency matrix\n",
    "n = len(columns)\n",
    "adj = np.ones((n, n))\n",
    "\n",
    "for i in range(n):\n",
    "    for j in range(i+1, n):\n",
    "        if i == j:\n",
    "            continue\n",
    "        val = input(f'Is {columns[i]} and {columns[j]} connected? (1 or 0)')\n",
    "        adj[i, j] = float(val)\n",
    "        adj[j, i] = float(val)\n",
    "# np.savetxt(data_path + \"/ca_counties-adj.txt\", adj)"
   ]
  },
  {
   "cell_type": "code",
   "execution_count": 14,
   "id": "55736b33",
   "metadata": {
    "scrolled": true
   },
   "outputs": [
    {
     "name": "stdout",
     "output_type": "stream",
     "text": [
      "(51, 51)\n",
      "[[1. 0. 0. ... 0. 0. 0.]\n",
      " [0. 1. 0. ... 0. 0. 0.]\n",
      " [0. 0. 1. ... 0. 0. 1.]\n",
      " ...\n",
      " [0. 0. 0. ... 1. 0. 0.]\n",
      " [0. 0. 0. ... 0. 1. 0.]\n",
      " [0. 0. 1. ... 0. 0. 1.]]\n"
     ]
    },
    {
     "data": {
      "text/plain": [
       "array([[1, 0, 0, ..., 0, 0, 0],\n",
       "       [0, 1, 0, ..., 0, 0, 0],\n",
       "       [0, 0, 1, ..., 0, 0, 1],\n",
       "       ...,\n",
       "       [0, 0, 0, ..., 1, 0, 0],\n",
       "       [0, 0, 0, ..., 0, 1, 0],\n",
       "       [0, 0, 1, ..., 0, 0, 1]])"
      ]
     },
     "execution_count": 14,
     "metadata": {},
     "output_type": "execute_result"
    }
   ],
   "source": [
    "# Corrections:\n",
    "\n",
    "adj = np.loadtxt(data_path + \"/ca_counties-adj.txt\", delimiter=\",\")\n",
    "# i = columns.index(\"Tuolumne\")\n",
    "# j = columns.index(\"Merced\")\n",
    "print(adj.shape)\n",
    "print(adj)\n",
    "# adj[i, j] = 1\n",
    "# adj[j, i] = 1\n",
    "adj.astype(int)\n",
    "# np.savetxt(data_path + \"/ca_counties-adj.txt\", adj, delimiter=\",\", fmt=\"%d\")"
   ]
  },
  {
   "cell_type": "code",
   "execution_count": 81,
   "id": "4e81ac92",
   "metadata": {
    "scrolled": true
   },
   "outputs": [
    {
     "name": "stdout",
     "output_type": "stream",
     "text": [
      "273.0\n",
      "0.0\n"
     ]
    }
   ],
   "source": [
    "adj = np.loadtxt(data_path + \"/ca_counties-adj.txt\")\n",
    "# for i in range(n):\n",
    "#     print(f'For {columns[i]}:')\n",
    "#     neighbors = []\n",
    "#     for j in range(n):\n",
    "#         if adj[i, j] == 1:\n",
    "#             neighbors.append(columns[j])\n",
    "#     print(neighbors)        \n",
    "print(np.sum(adj))\n",
    "print(np.sum(np.transpose(adj) - adj))"
   ]
  },
  {
   "cell_type": "code",
   "execution_count": 61,
   "id": "eea81e0e",
   "metadata": {
    "scrolled": true
   },
   "outputs": [
    {
     "name": "stdout",
     "output_type": "stream",
     "text": [
      "Requirement already satisfied: plotly-geo==1.0.0 in /Library/Frameworks/Python.framework/Versions/3.7/lib/python3.7/site-packages (1.0.0)\n",
      "\u001b[33mWARNING: You are using pip version 19.2.3, however version 23.0 is available.\n",
      "You should consider upgrading via the 'pip install --upgrade pip' command.\u001b[0m\n",
      "^C\n",
      "\u001b[31mERROR: Operation cancelled by user\u001b[0m\n",
      "\u001b[33mWARNING: You are using pip version 19.2.3, however version 23.0 is available.\n",
      "You should consider upgrading via the 'pip install --upgrade pip' command.\u001b[0m\n",
      "Requirement already satisfied: pyshp==1.2.10 in /Library/Frameworks/Python.framework/Versions/3.7/lib/python3.7/site-packages (1.2.10)\n",
      "\u001b[33mWARNING: You are using pip version 19.2.3, however version 23.0 is available.\n",
      "You should consider upgrading via the 'pip install --upgrade pip' command.\u001b[0m\n",
      "Collecting shapely==1.6.3\n",
      "  Using cached https://files.pythonhosted.org/packages/c0/10/1457c46e20b509108a32a5776141d78d410161dae8ab8da74efe67c530eb/Shapely-1.6.3.tar.gz\n",
      "\u001b[31m    ERROR: Command errored out with exit status 1:\n",
      "     command: /Library/Frameworks/Python.framework/Versions/3.7/bin/python3.7 -c 'import sys, setuptools, tokenize; sys.argv[0] = '\"'\"'/private/var/folders/dt/hfjc42l539z1128c2hk6lms80000gn/T/pip-install-_uu543y9/shapely/setup.py'\"'\"'; __file__='\"'\"'/private/var/folders/dt/hfjc42l539z1128c2hk6lms80000gn/T/pip-install-_uu543y9/shapely/setup.py'\"'\"';f=getattr(tokenize, '\"'\"'open'\"'\"', open)(__file__);code=f.read().replace('\"'\"'\\r\\n'\"'\"', '\"'\"'\\n'\"'\"');f.close();exec(compile(code, __file__, '\"'\"'exec'\"'\"'))' egg_info --egg-base pip-egg-info\n",
      "         cwd: /private/var/folders/dt/hfjc42l539z1128c2hk6lms80000gn/T/pip-install-_uu543y9/shapely/\n",
      "    Complete output (11 lines):\n",
      "    Failed `CDLL(/Library/Frameworks/GEOS.framework/Versions/Current/GEOS)`\n",
      "    Failed `CDLL(/opt/local/lib/libgeos_c.dylib)`\n",
      "    Traceback (most recent call last):\n",
      "      File \"<string>\", line 1, in <module>\n",
      "      File \"/private/var/folders/dt/hfjc42l539z1128c2hk6lms80000gn/T/pip-install-_uu543y9/shapely/setup.py\", line 80, in <module>\n",
      "        from shapely._buildcfg import geos_version_string, geos_version, \\\n",
      "      File \"/private/var/folders/dt/hfjc42l539z1128c2hk6lms80000gn/T/pip-install-_uu543y9/shapely/shapely/_buildcfg.py\", line 185, in <module>\n",
      "        lgeos = load_dll('geos_c', fallbacks=alt_paths)\n",
      "      File \"/private/var/folders/dt/hfjc42l539z1128c2hk6lms80000gn/T/pip-install-_uu543y9/shapely/shapely/_buildcfg.py\", line 161, in load_dll\n",
      "        libname, fallbacks or []))\n",
      "    OSError: Could not find library geos_c or load any of its variants ['/Library/Frameworks/GEOS.framework/Versions/Current/GEOS', '/opt/local/lib/libgeos_c.dylib']\n",
      "    ----------------------------------------\u001b[0m\n",
      "\u001b[31mERROR: Command errored out with exit status 1: python setup.py egg_info Check the logs for full command output.\u001b[0m\n",
      "\u001b[33mWARNING: You are using pip version 19.2.3, however version 23.0 is available.\n",
      "You should consider upgrading via the 'pip install --upgrade pip' command.\u001b[0m\n"
     ]
    }
   ],
   "source": [
    "# Visualize the counties on a map\n",
    "!pip3 install plotly-geo==1.0.0\n",
    "!pip3 install geopandas==0.3.0\n",
    "!pip3 install pyshp==1.2.10\n",
    "!pip3 install shapely==1.6.3"
   ]
  },
  {
   "cell_type": "code",
   "execution_count": 4,
   "id": "e0ec4524",
   "metadata": {
    "scrolled": true
   },
   "outputs": [
    {
     "name": "stdout",
     "output_type": "stream",
     "text": [
      "{'Orange': 6059, 'Los Angeles': 6037, 'Santa Clara': 6085, 'San Francisco': 6075, 'San Diego': 6073, 'Humboldt': 6023, 'Sacramento': 6067, 'Solano': 6095, 'Marin': 6041, 'Napa': 6055, 'Sonoma': 6097, 'Alameda': 6001, 'Placer': 6061, 'San Mateo': 6081, 'Contra Costa': 6013, 'Yolo': 6113, 'Fresno': 6019, 'Madera': 6039, 'Riverside': 6065, 'Santa Cruz': 6087, 'Shasta': 6089, 'San Joaquin': 6077, 'Ventura': 6111, 'Stanislaus': 6099, 'Tulare': 6107, 'San Benito': 6069, 'San Luis Obispo': 6079, 'San Bernardino': 6071, 'Santa Barbara': 6083, 'Nevada': 6057, 'Kern': 6029, 'Monterey': 6053, 'Mendocino': 6045, 'Amador': 6005, 'Imperial': 6025, 'Butte': 6007, 'El Dorado': 6017, 'Siskiyou': 6093, 'Yuba': 6115, 'Calaveras': 6009, 'Merced': 6047, 'Mono': 6051, 'Inyo': 6027, 'Sutter': 6101, 'Colusa': 6011, 'Kings': 6031, 'Glenn': 6021, 'Tuolumne': 6109, 'Alpine': 6003, 'Plumas': 6063, 'Del Norte': 6015, 'Tehama': 6103, 'Lake': 6033, 'Mariposa': 6043, 'Trinity': 6105, 'Sierra': 6091, 'Lassen': 6035, 'Modoc': 6049}\n"
     ]
    }
   ],
   "source": [
    "# Get the fips map\n",
    "import collections\n",
    "df = pd.read_csv(data_path+\"/us-counties.txt\")\n",
    "df = df[df[\"state\"]==state]\n",
    "df_fips = df[['county', 'fips']].drop_duplicates()\n",
    "df_fips = df_fips.dropna(axis=0)\n",
    "fips_map = df_fips.values\n",
    "county_to_fips = {c: int(f) for c, f in fips_map}\n",
    "print(county_to_fips)"
   ]
  },
  {
   "cell_type": "code",
   "execution_count": 10,
   "id": "f48c47dd",
   "metadata": {
    "scrolled": true
   },
   "outputs": [
    {
     "data": {
      "text/plain": [
       "{'type': 'Feature',\n",
       " 'properties': {'GEO_ID': '0500000US01001',\n",
       "  'STATE': '01',\n",
       "  'COUNTY': '001',\n",
       "  'NAME': 'Autauga',\n",
       "  'LSAD': 'County',\n",
       "  'CENSUSAREA': 594.436},\n",
       " 'geometry': {'type': 'Polygon',\n",
       "  'coordinates': [[[-86.496774, 32.344437],\n",
       "    [-86.717897, 32.402814],\n",
       "    [-86.814912, 32.340803],\n",
       "    [-86.890581, 32.502974],\n",
       "    [-86.917595, 32.664169],\n",
       "    [-86.71339, 32.661732],\n",
       "    [-86.714219, 32.705694],\n",
       "    [-86.413116, 32.707386],\n",
       "    [-86.411172, 32.409937],\n",
       "    [-86.496774, 32.344437]]]},\n",
       " 'id': '01001'}"
      ]
     },
     "execution_count": 10,
     "metadata": {},
     "output_type": "execute_result"
    }
   ],
   "source": [
    "from urllib.request import urlopen\n",
    "import json\n",
    "with urlopen('https://raw.githubusercontent.com/plotly/datasets/master/geojson-counties-fips.json') as response:\n",
    "    counties = json.load(response)\n",
    "\n",
    "counties[\"features\"][0]"
   ]
  },
  {
   "cell_type": "code",
   "execution_count": null,
   "id": "01319e4d",
   "metadata": {
    "scrolled": true
   },
   "outputs": [],
   "source": []
  }
 ],
 "metadata": {
  "kernelspec": {
   "display_name": "Python 3 (ipykernel)",
   "language": "python",
   "name": "python3"
  },
  "language_info": {
   "codemirror_mode": {
    "name": "ipython",
    "version": 3
   },
   "file_extension": ".py",
   "mimetype": "text/x-python",
   "name": "python",
   "nbconvert_exporter": "python",
   "pygments_lexer": "ipython3",
   "version": "3.7.7"
  }
 },
 "nbformat": 4,
 "nbformat_minor": 5
}
